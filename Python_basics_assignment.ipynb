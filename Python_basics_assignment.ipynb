{
 "cells": [
  {
   "cell_type": "markdown",
   "id": "abc72c9f",
   "metadata": {},
   "source": [
    "# Python Basics Questions"
   ]
  },
  {
   "cell_type": "markdown",
   "id": "d1a6635f",
   "metadata": {},
   "source": [
    "1.What is Python, and why is it popular?\n",
    "\n",
    "   ->Python is a programming language that is easy to understand and write, making it a popular choice among developers and           programmers. \n",
    "      It is compatible with various programming paradigms, such as procedural, object-oriented, and functional programming. \n",
    "      Python has a large and active community of developers, an extensive standard library, and third-party packages for various       domains. \n",
    "   \n",
    "2.What is an interpreter in Python?\n",
    "\n",
    "   ->A Python interpreter is a program that reads and executes Python code line by line.\n",
    "  \n",
    "3.What are pre-defined keywords in Python?\n",
    "\n",
    "   ->Keywords are reserved words in Python that have special meanings and cannot be used as identifiers (variable names,              function     names, etc.). \n",
    "     Keywords are case-sensitive and cannot be redefined or overridden within a Python program.\n",
    "   \n",
    "4.Can keywords be used as variable names?\n",
    "\n",
    "   ->No, keywords cannot be used as variable names in Python.\n",
    "  \n",
    "5.What is mutability in Python?\n",
    "\n",
    "   ->Mutability refers to the ability of an objects whose state or value can be changed after they are created, such as lists        and dictionaries, can be modified after creation.\n",
    "  \n",
    "6.Why are lists mutable, but tuples are immutable?\n",
    "\n",
    "   ->Lists are mutable because they are designed to be dynamic and allow modications like adding, removing, or updating              elements, but tuples are immutable because they are meant to represent fixed collections of items, ensuring stability,          constistency, and optimized performance.\n",
    "  \n",
    "\n",
    "7.What is the difference between “==” and “is” operators in Python?\n",
    "\n",
    "   ->The \"==\" operator helps us compare the equality of objects. The \"is\" operator helps us check whether different variables         point towards a similar object in the memory.\n",
    "  \n",
    "8.What are logical operators in Python?\n",
    "\n",
    "   ->Logical operators in Python are used to combine and manipulate Boolean values (True or False).\n",
    "     There are three logical operators: and, or, not\n",
    "  \n",
    "9.What is type casting in Python?\n",
    "\n",
    "   ->Type casting, also referred to as type conversion, is the process of changing one data type to another in Python. \n",
    "     Type casting is often necessary for performing arithmetic operations, data manipulation, and input/output operations in           Python programs.\n",
    "   \n",
    "10.What is the difference between implicit and explicit type casting?\n",
    "\n",
    "   ->Implicit type casting happens automatically i.e. python understand the datatype, while explicit type casting requires a          programmer to manually force the conversion.\n",
    "   \n",
    "11.What is the purpose of conditional statements in Python?\n",
    "\n",
    "   ->Conditional statements in Python allow us to control the flow of our program based on certain conditions. They help us           make decisions and execute different blocks of code depending on whether a condition is true or false.\n",
    "   \n",
    "12.How does the elif statement work?\n",
    "\n",
    "   ->elif stands for \"else if\". It allows us to check multiple conditions in a sequence.\n",
    "   \n",
    "13.What is the difference between for and while loops?\n",
    "\n",
    "   ->A while loop repeatedly executed a block of code untill a condition is met, while a for loop iterate over the sequence of        the elements.\n",
    "   \n",
    "14.Describe a scenario where a while loop is more suitable than a for loop.\n",
    "\n",
    "   -> A while loop is more suitable than a for loop when the number of iterations is not predetermined and depends on a               condition being met diring runtime.\n",
    "      A for loop is typically used when iterating over a sequence with known length or range, such as iterating through a list         or range of numbers.\n"
   ]
  },
  {
   "cell_type": "markdown",
   "id": "7cfadf6a",
   "metadata": {},
   "source": [
    "# Practical Questions"
   ]
  },
  {
   "cell_type": "code",
   "execution_count": 2,
   "id": "dee327bf",
   "metadata": {},
   "outputs": [
    {
     "name": "stdout",
     "output_type": "stream",
     "text": [
      "Hello, World!\n"
     ]
    }
   ],
   "source": [
    "#1. Write a Python program to print \"Hello, World!\n",
    "\n",
    "print(\"Hello, World!\")"
   ]
  },
  {
   "cell_type": "code",
   "execution_count": 3,
   "id": "112fff9d",
   "metadata": {},
   "outputs": [
    {
     "name": "stdout",
     "output_type": "stream",
     "text": [
      "My name is Ayushi and age is 24\n"
     ]
    }
   ],
   "source": [
    "#2. Write a Python program that displays your name and age\n",
    "\n",
    "name = \"Ayushi\"\n",
    "age = 24\n",
    "print(\"My name is\",name,\"and age is\",age)"
   ]
  },
  {
   "cell_type": "code",
   "execution_count": 4,
   "id": "ef54518b",
   "metadata": {},
   "outputs": [
    {
     "name": "stdout",
     "output_type": "stream",
     "text": [
      "The list of keywords is : \n",
      "['False', 'None', 'True', 'and', 'as', 'assert', 'async', 'await', 'break', 'class', 'continue', 'def', 'del', 'elif', 'else', 'except', 'finally', 'for', 'from', 'global', 'if', 'import', 'in', 'is', 'lambda', 'nonlocal', 'not', 'or', 'pass', 'raise', 'return', 'try', 'while', 'with', 'yield']\n"
     ]
    }
   ],
   "source": [
    "#3. Write code to print all the pre-defined keywords in Python using the keyword library.\n",
    "\n",
    "import keyword  # import the keyword module\n",
    "print(\"The list of keywords is : \")\n",
    "print(keyword.kwlist)"
   ]
  },
  {
   "cell_type": "code",
   "execution_count": 1,
   "id": "ccbfed3a",
   "metadata": {},
   "outputs": [
    {
     "name": "stdout",
     "output_type": "stream",
     "text": [
      "The list of keywords is : \n",
      "['False', 'None', 'True', 'and', 'as', 'assert', 'async', 'await', 'break', 'class', 'continue', 'def', 'del', 'elif', 'else', 'except', 'finally', 'for', 'from', 'global', 'if', 'import', 'in', 'is', 'lambda', 'nonlocal', 'not', 'or', 'pass', 'raise', 'return', 'try', 'while', 'with', 'yield']\n",
      "Enter a word to check: if\n",
      "if is a Python Keyword.\n"
     ]
    }
   ],
   "source": [
    "#4. Write a program that checks if a given word is a Python keyword\n",
    "\n",
    "import keyword\n",
    "print(\"The list of keywords is : \")\n",
    "python_keywords = keyword.kwlist\n",
    "print(python_keywords) # List of Python Keywords\n",
    "\n",
    "word = input(\"Enter a word to check: \")\n",
    "\n",
    "#Check if the word is in the list of keywords\n",
    "if word in python_keywords:\n",
    "    print(word, \"is a Python Keyword.\")\n",
    "else:\n",
    "    print(word, \"is not a Python Keyword.\")\n"
   ]
  },
  {
   "cell_type": "code",
   "execution_count": 2,
   "id": "52cf2fc4",
   "metadata": {},
   "outputs": [
    {
     "name": "stdout",
     "output_type": "stream",
     "text": [
      "Original list: [1, 2, 3, 4]\n",
      "Modified list: [1, 100, 3, 4]\n",
      "Original tuple: (1, 2, 3, 4)\n"
     ]
    },
    {
     "ename": "TypeError",
     "evalue": "'tuple' object does not support item assignment",
     "output_type": "error",
     "traceback": [
      "\u001b[1;31m---------------------------------------------------------------------------\u001b[0m",
      "\u001b[1;31mTypeError\u001b[0m                                 Traceback (most recent call last)",
      "\u001b[1;32m<ipython-input-2-7edda21c31ea>\u001b[0m in \u001b[0;36m<module>\u001b[1;34m\u001b[0m\n\u001b[0;32m     14\u001b[0m \u001b[1;31m#Modifying an element in the tuple\u001b[0m\u001b[1;33m\u001b[0m\u001b[1;33m\u001b[0m\u001b[1;33m\u001b[0m\u001b[0m\n\u001b[0;32m     15\u001b[0m \u001b[0mprint\u001b[0m\u001b[1;33m(\u001b[0m\u001b[1;34m\"Original tuple:\"\u001b[0m\u001b[1;33m,\u001b[0m \u001b[0mmy_tuple\u001b[0m\u001b[1;33m)\u001b[0m\u001b[1;33m\u001b[0m\u001b[1;33m\u001b[0m\u001b[0m\n\u001b[1;32m---> 16\u001b[1;33m \u001b[0mmy_tuple\u001b[0m\u001b[1;33m[\u001b[0m\u001b[1;36m1\u001b[0m\u001b[1;33m]\u001b[0m \u001b[1;33m=\u001b[0m \u001b[1;36m100\u001b[0m \u001b[1;31m# error when try to modify tuple\u001b[0m\u001b[1;33m\u001b[0m\u001b[1;33m\u001b[0m\u001b[0m\n\u001b[0m",
      "\u001b[1;31mTypeError\u001b[0m: 'tuple' object does not support item assignment"
     ]
    }
   ],
   "source": [
    "#5. Create a list and tuple in Python, and demonstrate how attempting to change an element works differently for each.\n",
    "\n",
    "#creating a list\n",
    "my_list = [1,2,3,4]\n",
    "\n",
    "#creating a tuple\n",
    "my_tuple = (1,2,3,4)\n",
    "\n",
    "# Modifying an element in the list\n",
    "print(\"Original list:\", my_list)\n",
    "my_list[1] = 100\n",
    "print(\"Modified list:\", my_list)\n",
    "\n",
    "#Modifying an element in the tuple\n",
    "print(\"Original tuple:\", my_tuple)\n",
    "my_tuple[1] = 100 # error when try to modify tuple\n"
   ]
  },
  {
   "cell_type": "code",
   "execution_count": 3,
   "id": "f18036cc",
   "metadata": {},
   "outputs": [
    {
     "name": "stdout",
     "output_type": "stream",
     "text": [
      "Before function call:\n",
      "mutable_list: [1, 2, 3]\n",
      "immutable_int 25\n",
      "\n",
      "Inside function, after modifying mutable_arg: [1, 2, 3, 40]\n",
      "Inside function, after modifying immutable_arg: 26\n",
      "\n",
      "After function call:\n",
      "mutable_list: [1, 2, 3, 40]\n",
      "immutable_int: 25\n"
     ]
    }
   ],
   "source": [
    "#6. Write a function to demonstrate the behavior of mutable and immutable arguments\n",
    "\n",
    "def dem_mutable_immutable(mut_arg, imm_arg):\n",
    "    \n",
    "    # modify the mutable argument\n",
    "    mut_arg.append(40)\n",
    "    print(\"\\nInside function, after modifying mutable_arg:\", mut_arg)\n",
    "    \n",
    "    #modify the immutable argument\n",
    "    imm_arg += 1\n",
    "    print(\"Inside function, after modifying immutable_arg:\", imm_arg)\n",
    "    \n",
    "mutable_list = [1,2,3]\n",
    "immutable_int = 25\n",
    "\n",
    "print(\"Before function call:\")\n",
    "print(\"mutable_list:\", mutable_list)\n",
    "print(\"immutable_int\", immutable_int)\n",
    "    \n",
    "#call the function\n",
    "dem_mutable_immutable(mutable_list, immutable_int)\n",
    "\n",
    "print(\"\\nAfter function call:\")\n",
    "print(\"mutable_list:\", mutable_list)\n",
    "print(\"immutable_int:\", immutable_int)\n",
    "    "
   ]
  },
  {
   "cell_type": "code",
   "execution_count": 4,
   "id": "b3e6a9f4",
   "metadata": {},
   "outputs": [
    {
     "name": "stdout",
     "output_type": "stream",
     "text": [
      "Enter your age: 24\n",
      "Do you have an ID? (yes/no): yes\n",
      "Are you a student? (yes/no): no\n",
      "You are eligible to vote.\n",
      "You qualify for a student discount.\n",
      "You are not a minor.\n"
     ]
    }
   ],
   "source": [
    "#7.same as 6 no question\n",
    "#8. Write a program to demonstrate the use of logical operators\n",
    "\n",
    "age = int(input(\"Enter your age: \"))\n",
    "has_id = input(\"Do you have an ID? (yes/no): \")\n",
    "is_student = input(\"Are you a student? (yes/no): \")\n",
    "\n",
    "# check if the person is eligible to vote \n",
    "if age >= 18 and has_id:\n",
    "    print(\"You are eligible to vote.\")\n",
    "else:\n",
    "    print(\"You are not eligible to vote.\")\n",
    "    \n",
    "# check if the person qualities for a student discount\n",
    "if age < 25 or is_student:\n",
    "    print(\"You qualify for a student discount.\")\n",
    "else:\n",
    "    print(\"You do not qualify for a student discount.\")\n",
    "    \n",
    "#check if the person is not a minor\n",
    "if not age < 18:\n",
    "    print(\"You are not a minor.\")\n",
    "else:\n",
    "    print(\"You are minor.\")"
   ]
  },
  {
   "cell_type": "code",
   "execution_count": 1,
   "id": "f153d973",
   "metadata": {},
   "outputs": [
    {
     "name": "stdout",
     "output_type": "stream",
     "text": [
      "Enter a value: 25\n",
      "Integer value: 25\n",
      "Float value: 25.0\n",
      "Boolean value: True\n"
     ]
    }
   ],
   "source": [
    "#9. Write a Python program to convert user input from string to integer, float, and boolean types.\n",
    "\n",
    "user_input = input(\"Enter a value: \")\n",
    "\n",
    "#Convert to integer\n",
    "int_value = int(user_input)\n",
    "print(\"Integer value:\", int_value)\n",
    "\n",
    "#Convert to float\n",
    "float_value = float(user_input)\n",
    "print(\"Float value:\", float_value)\n",
    "\n",
    "#Convert to boolean\n",
    "bool_value = bool(user_input)\n",
    "print(\"Boolean value:\", bool_value)\n"
   ]
  },
  {
   "cell_type": "code",
   "execution_count": 1,
   "id": "7b0ad386",
   "metadata": {},
   "outputs": [
    {
     "name": "stdout",
     "output_type": "stream",
     "text": [
      "Original list: ['10', '20.5', 'True', '3', '30.8', 'False']\n",
      "List cast to integer: [10, 20, None, 3, 30, None]\n",
      "List cast to float: [10.0, 20.5, None, 3.0, 30.8, None]\n",
      "List cast to boolean: [True, True, True, True, True, True]\n",
      "List cast to string: ['10', '20.5', 'True', '3', '30.8', 'False']\n"
     ]
    }
   ],
   "source": [
    "#10. Write code to demonstrate type casting with list elements.\n",
    "\n",
    "#Original list\n",
    "original_list = ['10', '20.5', 'True', '3', '30.8', 'False']\n",
    "print(\"Original list:\", original_list)\n",
    "\n",
    "#integer casting\n",
    "int_list = []\n",
    "for item in original_list:\n",
    "    #integer casting\n",
    "    if item.replace('.', '', 1).isdigit() and item.count('.') <= 1:\n",
    "        int_list.append(int(float(item)))\n",
    "    else:\n",
    "        int_list.append(None)\n",
    "\n",
    "print(\"List cast to integer:\", int_list)\n",
    "   \n",
    "#Float casting\n",
    "float_list = []\n",
    "for item in original_list:\n",
    "    if item.replace('.', '', 1).isdigit() and item.count('.') <= 1:\n",
    "        float_list.append(float(item))\n",
    "    else:\n",
    "        float_list.append(None)\n",
    "        \n",
    "print(\"List cast to float:\", float_list)\n",
    "        \n",
    "#boolean casting\n",
    "bool_list = []\n",
    "for item in original_list:\n",
    "    if item.strip():\n",
    "        bool_list.append(True)\n",
    "    else:\n",
    "        bool_list.append(False)\n",
    "        \n",
    "print(\"List cast to boolean:\", bool_list)\n",
    "        \n",
    "#String casting\n",
    "str_list = []\n",
    "for item in original_list:\n",
    "    str_list.append(str(item))\n",
    "\n",
    "print(\"List cast to string:\", str_list)"
   ]
  },
  {
   "cell_type": "code",
   "execution_count": 3,
   "id": "9c02646a",
   "metadata": {},
   "outputs": [
    {
     "name": "stdout",
     "output_type": "stream",
     "text": [
      "Enter a number: 20\n",
      "The number is positive.\n"
     ]
    }
   ],
   "source": [
    "#11. Write a program that checks if a number is positive, negative, or zero.\n",
    "\n",
    "# Input from the user\n",
    "number = float(input(\"Enter a number: \"))\n",
    "\n",
    "# Check if the number is positive, negative, or zero\n",
    "if number > 0:\n",
    "    print(\"The number is positive.\")\n",
    "elif number < 0:\n",
    "    print(\"The number is negative.\")\n",
    "else:\n",
    "    print(\"The number is zero.\")"
   ]
  },
  {
   "cell_type": "code",
   "execution_count": 4,
   "id": "9009facc",
   "metadata": {},
   "outputs": [
    {
     "name": "stdout",
     "output_type": "stream",
     "text": [
      "1 2 3 4 5 6 7 8 9 10 11 12 13 14 15 16 17 18 19 20 21 22 23 24 25 26 27 28 29 30 31 32 33 34 35 36 37 38 39 40 41 42 43 44 45 46 47 48 49 50 51 52 53 54 55 56 57 58 59 60 61 62 63 64 65 66 67 68 69 70 71 72 73 74 75 76 77 78 79 80 81 82 83 84 85 86 87 88 89 90 91 92 93 94 95 96 97 98 99 100 "
     ]
    }
   ],
   "source": [
    "#12. Write a for loop to print numbers from 1 to 100\n",
    "\n",
    "for i in range(1,101):\n",
    "    print(i, end = \" \")"
   ]
  },
  {
   "cell_type": "code",
   "execution_count": 5,
   "id": "c27e12ac",
   "metadata": {},
   "outputs": [
    {
     "name": "stdout",
     "output_type": "stream",
     "text": [
      "The sum of all even numbers between 1 and 500 is: 62750\n"
     ]
    }
   ],
   "source": [
    "#13. Write a Python program to find the sum of all even numbers between 1 and 500\n",
    "\n",
    "sum_even = 0\n",
    "\n",
    "for i in range(1,501):\n",
    "    if i % 2 == 0:\n",
    "        sum_even += i\n",
    "print(\"The sum of all even numbers between 1 and 500 is:\", sum_even)"
   ]
  },
  {
   "cell_type": "code",
   "execution_count": 8,
   "id": "a2728fb7",
   "metadata": {},
   "outputs": [
    {
     "name": "stdout",
     "output_type": "stream",
     "text": [
      "Enter a string: ayushi\n",
      "Reversed string:  ihsuya\n"
     ]
    }
   ],
   "source": [
    "#14. Write a program to reverse a string using a while loop\n",
    "\n",
    "original_string = input(\"Enter a string: \")\n",
    "\n",
    "reversed_string = \" \"\n",
    "index = len(original_string) - 1\n",
    "\n",
    "while index >= 0:\n",
    "    reversed_string += original_string[index]\n",
    "    index -= 1\n",
    "\n",
    "print(\"Reversed string:\", reversed_string)                                       "
   ]
  },
  {
   "cell_type": "code",
   "execution_count": 9,
   "id": "8361042c",
   "metadata": {},
   "outputs": [
    {
     "name": "stdout",
     "output_type": "stream",
     "text": [
      "Enter a number: 5\n",
      "The factorial of 5 is: 120\n"
     ]
    }
   ],
   "source": [
    "#15. Write a Python program to calculate the factorial of a number provided by the user using a while loop.\n",
    "\n",
    "number = int(input(\"Enter a number: \"))\n",
    "\n",
    "factorial = 1\n",
    "current = number\n",
    "\n",
    "while current > 0:\n",
    "    factorial *= current\n",
    "    current -= 1\n",
    "    \n",
    "print(f\"The factorial of {number} is: {factorial}\")"
   ]
  },
  {
   "cell_type": "code",
   "execution_count": null,
   "id": "17e9f735",
   "metadata": {},
   "outputs": [],
   "source": []
  }
 ],
 "metadata": {
  "kernelspec": {
   "display_name": "Python 3",
   "language": "python",
   "name": "python3"
  },
  "language_info": {
   "codemirror_mode": {
    "name": "ipython",
    "version": 3
   },
   "file_extension": ".py",
   "mimetype": "text/x-python",
   "name": "python",
   "nbconvert_exporter": "python",
   "pygments_lexer": "ipython3",
   "version": "3.8.8"
  }
 },
 "nbformat": 4,
 "nbformat_minor": 5
}
